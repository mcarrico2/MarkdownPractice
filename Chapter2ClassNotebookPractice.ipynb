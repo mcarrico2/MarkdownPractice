{
 "cells": [
  {
   "cell_type": "code",
   "execution_count": 1,
   "id": "68d0a29f",
   "metadata": {},
   "outputs": [
    {
     "name": "stdout",
     "output_type": "stream",
     "text": [
      "6\n"
     ]
    }
   ],
   "source": [
    "a=3\n",
    "b=a*2\n",
    "print(b)"
   ]
  },
  {
   "cell_type": "code",
   "execution_count": 2,
   "id": "e37caf71",
   "metadata": {
    "scrolled": true
   },
   "outputs": [
    {
     "name": "stdout",
     "output_type": "stream",
     "text": [
      "11\n"
     ]
    }
   ],
   "source": [
    "c=5\n",
    "d=6\n",
    "print(c+d)"
   ]
  },
  {
   "cell_type": "code",
   "execution_count": 3,
   "id": "1ad7ea2c",
   "metadata": {},
   "outputs": [
    {
     "name": "stdout",
     "output_type": "stream",
     "text": [
      "Hello Class\n"
     ]
    }
   ],
   "source": [
    "print(\"Hello Class\")"
   ]
  },
  {
   "cell_type": "markdown",
   "id": "63e30b48",
   "metadata": {},
   "source": [
    "# Heading 1"
   ]
  },
  {
   "cell_type": "markdown",
   "id": "36b12bf8",
   "metadata": {},
   "source": [
    "## Heading 2"
   ]
  },
  {
   "cell_type": "markdown",
   "id": "01c80ceb",
   "metadata": {},
   "source": [
    "### Heading 3"
   ]
  },
  {
   "cell_type": "markdown",
   "id": "2e2348ed",
   "metadata": {},
   "source": [
    "#### Heading 4"
   ]
  },
  {
   "cell_type": "markdown",
   "id": "d145eece",
   "metadata": {},
   "source": [
    "##### Heading 5"
   ]
  },
  {
   "cell_type": "markdown",
   "id": "dfe8ee16",
   "metadata": {},
   "source": [
    "\n",
    "###### Heading 6"
   ]
  },
  {
   "cell_type": "markdown",
   "id": "af075216",
   "metadata": {},
   "source": [
    "* List 1"
   ]
  },
  {
   "cell_type": "markdown",
   "id": "60bad261",
   "metadata": {},
   "source": [
    "* List 2\n"
   ]
  },
  {
   "cell_type": "markdown",
   "id": "2ba0842a",
   "metadata": {},
   "source": [
    "1. Ordered list 1"
   ]
  },
  {
   "cell_type": "markdown",
   "id": "34a41ca6",
   "metadata": {},
   "source": [
    "2. Ordered list 2\n"
   ]
  },
  {
   "cell_type": "markdown",
   "id": "b2238149",
   "metadata": {},
   "source": [
    "<a href=\"https://www.google.com/\"></a>"
   ]
  },
  {
   "cell_type": "markdown",
   "id": "9a2ae1db",
   "metadata": {},
   "source": [
    "<a href=\"https://google.com\">Google</a>\n"
   ]
  },
  {
   "cell_type": "markdown",
   "id": "6ea92bd0",
   "metadata": {},
   "source": [
    "![Tree](https://cdn.pixabay.com/photo/2015/04/23/22/00/tree-736885_1280.jpg)"
   ]
  },
  {
   "cell_type": "code",
   "execution_count": null,
   "id": "4fa0cf2d",
   "metadata": {},
   "outputs": [],
   "source": []
  },
  {
   "cell_type": "code",
   "execution_count": null,
   "id": "60a3b4e9",
   "metadata": {},
   "outputs": [],
   "source": []
  },
  {
   "cell_type": "code",
   "execution_count": null,
   "id": "1ed4a5a1",
   "metadata": {},
   "outputs": [],
   "source": []
  }
 ],
 "metadata": {
  "kernelspec": {
   "display_name": "Python 3 (ipykernel)",
   "language": "python",
   "name": "python3"
  },
  "language_info": {
   "codemirror_mode": {
    "name": "ipython",
    "version": 3
   },
   "file_extension": ".py",
   "mimetype": "text/x-python",
   "name": "python",
   "nbconvert_exporter": "python",
   "pygments_lexer": "ipython3",
   "version": "3.9.12"
  }
 },
 "nbformat": 4,
 "nbformat_minor": 5
}
